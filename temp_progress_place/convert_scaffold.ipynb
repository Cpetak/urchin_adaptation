{
 "cells": [
  {
   "cell_type": "code",
   "execution_count": 1,
   "metadata": {
    "Collapsed": "false"
   },
   "outputs": [],
   "source": [
    "import requests\n",
    "from time import sleep\n",
    "\n",
    "from bs4 import BeautifulSoup\n",
    "import csv\n",
    "import pandas as pd\n",
    "from tqdm import tqdm"
   ]
  },
  {
   "cell_type": "code",
   "execution_count": 2,
   "metadata": {},
   "outputs": [],
   "source": [
    "def get_ncbi_code(nscaffold):\n",
    "    URL = f\"https://www.ncbi.nlm.nih.gov/nuccore/?term={nscaffold}\"    \n",
    "    page = requests.get(URL)\n",
    "    soup = BeautifulSoup(page.content, 'html.parser')\n",
    "    if len(soup.select('.itemid')) > 0:\n",
    "        results = soup.select('.itemid')[0]\n",
    "        r = results.text[25:]\n",
    "    else:\n",
    "        r = \"NOT_FOUND\"\n",
    "    return r"
   ]
  },
  {
   "cell_type": "code",
   "execution_count": 3,
   "metadata": {},
   "outputs": [
    {
     "data": {
      "text/plain": [
       "'NW_022145545.1'"
      ]
     },
     "execution_count": 3,
     "metadata": {},
     "output_type": "execute_result"
    }
   ],
   "source": [
    "#testing\n",
    "get_ncbi_code(\"spur5_contig_839\")"
   ]
  },
  {
   "cell_type": "code",
   "execution_count": 58,
   "metadata": {},
   "outputs": [
    {
     "name": "stdout",
     "output_type": "stream",
     "text": [
      "Processed 113426 lines.\n"
     ]
    }
   ],
   "source": [
    "in_scaffolds = []\n",
    "with open('lvar_spur_scaffs.txt') as csv_file:\n",
    "    csv_reader = csv.reader(csv_file, delimiter='\\n')\n",
    "    line_count = 0\n",
    "    for row in csv_reader:\n",
    "        #print(f'Column names are {\", \".join(row)}')\n",
    "        line_count += 1\n",
    "        in_scaffolds.append(row)\n",
    "    print(f'Processed {line_count} lines.')"
   ]
  },
  {
   "cell_type": "code",
   "execution_count": 53,
   "metadata": {
    "collapsed": true,
    "jupyter": {
     "outputs_hidden": true
    }
   },
   "outputs": [
    {
     "data": {
      "text/plain": [
       "[['spur5_scaffold_3'],\n",
       " ['spur5_scaffold_3'],\n",
       " ['spur5_scaffold_3'],\n",
       " ['spur5_scaffold_13'],\n",
       " ['spur5_scaffold_6'],\n",
       " ['spur5_scaffold_6'],\n",
       " ['spur5_scaffold_7'],\n",
       " ['spur5_scaffold_7'],\n",
       " ['spur5_scaffold_7'],\n",
       " ['spur5_scaffold_18'],\n",
       " ['spur5_scaffold_18'],\n",
       " ['spur5_scaffold_17'],\n",
       " ['spur5_scaffold_17'],\n",
       " ['spur5_scaffold_20'],\n",
       " ['spur5_scaffold_20'],\n",
       " ['spur5_scaffold_6'],\n",
       " ['spur5_contig_858'],\n",
       " ['spur5_scaffold_7'],\n",
       " ['spur5_scaffold_2'],\n",
       " ['spur5_scaffold_2'],\n",
       " ['spur5_scaffold_17'],\n",
       " ['spur5_scaffold_17'],\n",
       " ['spur5_scaffold_6'],\n",
       " ['spur5_scaffold_4'],\n",
       " ['spur5_scaffold_19'],\n",
       " ['spur5_scaffold_16'],\n",
       " ['spur5_scaffold_15'],\n",
       " ['spur5_scaffold_15'],\n",
       " ['spur5_scaffold_10'],\n",
       " ['spur5_scaffold_5'],\n",
       " ['spur5_scaffold_6'],\n",
       " ['spur5_scaffold_10'],\n",
       " ['spur5_scaffold_21'],\n",
       " ['spur5_scaffold_7'],\n",
       " ['spur5_scaffold_19'],\n",
       " ['spur5_scaffold_15'],\n",
       " ['spur5_scaffold_15'],\n",
       " ['spur5_scaffold_15'],\n",
       " ['spur5_scaffold_7'],\n",
       " ['spur5_scaffold_9'],\n",
       " ['spur5_scaffold_6'],\n",
       " ['spur5_scaffold_6'],\n",
       " ['spur5_contig_858'],\n",
       " ['spur5_scaffold_6'],\n",
       " ['spur5_contig_858'],\n",
       " ['spur5_scaffold_7'],\n",
       " ['spur5_contig_870'],\n",
       " ['spur5_scaffold_9'],\n",
       " ['spur5_scaffold_1'],\n",
       " ['spur5_scaffold_9'],\n",
       " ['spur5_scaffold_9'],\n",
       " ['spur5_scaffold_9'],\n",
       " ['spur5_scaffold_9'],\n",
       " ['spur5_scaffold_9'],\n",
       " ['spur5_scaffold_9'],\n",
       " ['spur5_scaffold_11'],\n",
       " ['spur5_scaffold_11'],\n",
       " ['spur5_scaffold_7'],\n",
       " ['spur5_scaffold_8'],\n",
       " ['spur5_scaffold_8'],\n",
       " ['spur5_scaffold_15'],\n",
       " ['spur5_scaffold_2'],\n",
       " ['spur5_scaffold_2'],\n",
       " ['spur5_scaffold_3'],\n",
       " ['spur5_contig_828'],\n",
       " ['spur5_scaffold_12'],\n",
       " ['spur5_scaffold_5'],\n",
       " ['spur5_scaffold_11'],\n",
       " ['spur5_scaffold_4'],\n",
       " ['spur5_contig_869'],\n",
       " ['spur5_scaffold_5'],\n",
       " ['spur5_scaffold_5'],\n",
       " ['spur5_scaffold_5'],\n",
       " ['spur5_scaffold_5'],\n",
       " ['spur5_scaffold_5'],\n",
       " ['spur5_scaffold_15'],\n",
       " ['spur5_contig_840'],\n",
       " ['spur5_scaffold_14'],\n",
       " ['spur5_scaffold_17'],\n",
       " ['spur5_scaffold_17'],\n",
       " ['spur5_scaffold_17'],\n",
       " ['spur5_scaffold_16'],\n",
       " ['spur5_scaffold_16'],\n",
       " ['spur5_scaffold_16'],\n",
       " ['spur5_scaffold_16'],\n",
       " ['spur5_scaffold_16'],\n",
       " ['spur5_scaffold_16'],\n",
       " ['spur5_scaffold_16'],\n",
       " ['spur5_scaffold_16'],\n",
       " ['spur5_scaffold_2'],\n",
       " ['spur5_scaffold_2'],\n",
       " ['spur5_scaffold_16'],\n",
       " ['spur5_contig_822'],\n",
       " ['spur5_scaffold_16'],\n",
       " ['spur5_contig_822'],\n",
       " ['spur5_scaffold_6'],\n",
       " ['spur5_scaffold_14'],\n",
       " ['spur5_scaffold_16'],\n",
       " ['spur5_contig_816'],\n",
       " ['spur5_scaffold_5'],\n",
       " ['spur5_scaffold_14'],\n",
       " ['spur5_scaffold_6'],\n",
       " ['spur5_scaffold_12'],\n",
       " ['spur5_scaffold_21'],\n",
       " ['spur5_scaffold_17'],\n",
       " ['spur5_scaffold_17'],\n",
       " ['spur5_scaffold_17'],\n",
       " ['spur5_scaffold_10'],\n",
       " ['spur5_scaffold_12'],\n",
       " ['spur5_scaffold_5'],\n",
       " ['spur5_scaffold_21'],\n",
       " ['spur5_contig_854'],\n",
       " ['spur5_scaffold_10'],\n",
       " ['spur5_scaffold_1'],\n",
       " ['spur5_scaffold_1'],\n",
       " ['spur5_scaffold_6'],\n",
       " ['spur5_scaffold_7'],\n",
       " ['spur5_scaffold_6'],\n",
       " ['spur5_scaffold_3'],\n",
       " ['spur5_scaffold_2'],\n",
       " ['spur5_scaffold_2'],\n",
       " ['spur5_scaffold_6'],\n",
       " ['spur5_scaffold_2'],\n",
       " ['spur5_contig_862'],\n",
       " ['spur5_scaffold_16'],\n",
       " ['spur5_scaffold_16'],\n",
       " ['spur5_scaffold_16'],\n",
       " ['spur5_scaffold_16'],\n",
       " ['spur5_scaffold_11'],\n",
       " ['spur5_scaffold_11'],\n",
       " ['spur5_scaffold_8'],\n",
       " ['spur5_contig_810'],\n",
       " ['spur5_scaffold_14'],\n",
       " ['spur5_scaffold_15'],\n",
       " ['spur5_contig_847'],\n",
       " ['spur5_scaffold_19'],\n",
       " ['spur5_scaffold_9'],\n",
       " ['spur5_scaffold_9'],\n",
       " ['spur5_scaffold_9'],\n",
       " ['spur5_scaffold_19'],\n",
       " ['spur5_contig_866'],\n",
       " ['spur5_scaffold_5'],\n",
       " ['spur5_scaffold_5'],\n",
       " ['spur5_scaffold_18'],\n",
       " ['spur5_scaffold_4'],\n",
       " ['spur5_scaffold_17'],\n",
       " ['spur5_scaffold_7'],\n",
       " ['spur5_scaffold_4'],\n",
       " ['spur5_scaffold_16'],\n",
       " ['spur5_scaffold_19'],\n",
       " ['spur5_scaffold_19'],\n",
       " ['spur5_scaffold_1'],\n",
       " ['spur5_scaffold_18'],\n",
       " ['spur5_scaffold_5'],\n",
       " ['spur5_scaffold_5'],\n",
       " ['spur5_scaffold_5'],\n",
       " ['spur5_scaffold_5'],\n",
       " ['spur5_scaffold_5'],\n",
       " ['spur5_scaffold_14'],\n",
       " ['spur5_scaffold_9'],\n",
       " ['spur5_contig_847'],\n",
       " ['spur5_scaffold_14'],\n",
       " ['spur5_scaffold_6'],\n",
       " ['spur5_scaffold_1'],\n",
       " ['spur5_contig_812'],\n",
       " ['spur5_scaffold_3'],\n",
       " ['spur5_contig_828'],\n",
       " ['spur5_scaffold_9'],\n",
       " ['spur5_scaffold_6'],\n",
       " ['spur5_scaffold_17'],\n",
       " ['spur5_scaffold_14'],\n",
       " ['spur5_scaffold_3'],\n",
       " ['spur5_scaffold_9'],\n",
       " ['spur5_scaffold_15'],\n",
       " ['spur5_scaffold_15'],\n",
       " ['spur5_scaffold_15'],\n",
       " ['spur5_scaffold_16'],\n",
       " ['spur5_scaffold_21'],\n",
       " ['spur5_scaffold_13'],\n",
       " ['spur5_scaffold_6'],\n",
       " ['spur5_scaffold_4'],\n",
       " ['spur5_scaffold_4'],\n",
       " ['spur5_scaffold_6'],\n",
       " ['spur5_scaffold_6'],\n",
       " ['spur5_scaffold_10'],\n",
       " ['spur5_scaffold_5'],\n",
       " ['spur5_scaffold_5'],\n",
       " ['spur5_scaffold_17'],\n",
       " ['spur5_contig_844'],\n",
       " ['spur5_scaffold_20']]"
      ]
     },
     "execution_count": 53,
     "metadata": {},
     "output_type": "execute_result"
    }
   ],
   "source": [
    "in_scaffolds"
   ]
  },
  {
   "cell_type": "code",
   "execution_count": null,
   "metadata": {},
   "outputs": [],
   "source": [
    "#out_scaffolds = {} #DONT RUN THIS AGAIN UNLESS NECESSARY"
   ]
  },
  {
   "cell_type": "code",
   "execution_count": 59,
   "metadata": {},
   "outputs": [
    {
     "name": "stderr",
     "output_type": "stream",
     "text": [
      "  0%|          | 0/113426 [00:00<?, ?it/s]"
     ]
    },
    {
     "name": "stdout",
     "output_type": "stream",
     "text": [
      "NW_022145461.1\n"
     ]
    },
    {
     "name": "stderr",
     "output_type": "stream",
     "text": [
      "  7%|▋         | 7881/113426 [00:01<00:26, 3947.44it/s]"
     ]
    },
    {
     "name": "stdout",
     "output_type": "stream",
     "text": [
      "NW_022145456.1\n"
     ]
    },
    {
     "name": "stderr",
     "output_type": "stream",
     "text": [
      " 10%|▉         | 11310/113426 [00:03<00:32, 3149.03it/s]"
     ]
    },
    {
     "name": "stdout",
     "output_type": "stream",
     "text": [
      "NW_022145477.1\n"
     ]
    },
    {
     "name": "stderr",
     "output_type": "stream",
     "text": [
      " 10%|█         | 11883/113426 [00:05<02:01, 837.93it/s] "
     ]
    },
    {
     "name": "stdout",
     "output_type": "stream",
     "text": [
      "NW_022145492.1\n"
     ]
    },
    {
     "name": "stderr",
     "output_type": "stream",
     "text": [
      " 18%|█▊        | 19927/113426 [00:07<01:24, 1110.63it/s]"
     ]
    },
    {
     "name": "stdout",
     "output_type": "stream",
     "text": [
      "NW_022144930.1\n"
     ]
    },
    {
     "name": "stderr",
     "output_type": "stream",
     "text": [
      " 25%|██▍       | 27976/113426 [00:09<01:00, 1423.96it/s]"
     ]
    },
    {
     "name": "stdout",
     "output_type": "stream",
     "text": [
      "NW_022145199.1\n"
     ]
    },
    {
     "name": "stderr",
     "output_type": "stream",
     "text": [
      " 46%|████▌     | 51806/113426 [00:10<00:31, 1951.04it/s]"
     ]
    },
    {
     "name": "stdout",
     "output_type": "stream",
     "text": [
      "NW_022145507.1\n"
     ]
    },
    {
     "name": "stderr",
     "output_type": "stream",
     "text": [
      " 46%|████▌     | 52430/113426 [00:12<01:09, 883.23it/s] "
     ]
    },
    {
     "name": "stdout",
     "output_type": "stream",
     "text": [
      "NW_022145429.1\n"
     ]
    },
    {
     "name": "stderr",
     "output_type": "stream",
     "text": [
      " 75%|███████▍  | 84823/113426 [00:14<00:23, 1237.37it/s]"
     ]
    },
    {
     "name": "stdout",
     "output_type": "stream",
     "text": [
      "NW_022145376.1\n"
     ]
    },
    {
     "name": "stderr",
     "output_type": "stream",
     "text": [
      " 76%|███████▌  | 85713/113426 [00:16<00:33, 820.23it/s] "
     ]
    },
    {
     "name": "stdout",
     "output_type": "stream",
     "text": [
      "NW_022145487.1\n"
     ]
    },
    {
     "name": "stderr",
     "output_type": "stream",
     "text": [
      " 88%|████████▊ | 99253/113426 [00:17<00:12, 1126.97it/s]"
     ]
    },
    {
     "name": "stdout",
     "output_type": "stream",
     "text": [
      "NW_022145464.1\n"
     ]
    },
    {
     "name": "stderr",
     "output_type": "stream",
     "text": [
      "100%|██████████| 113426/113426 [00:19<00:00, 5905.38it/s]\n"
     ]
    }
   ],
   "source": [
    "for i, scaf in enumerate(tqdm(in_scaffolds)):\n",
    "    if not scaf[0] in out_scaffolds.keys():\n",
    "        o = get_ncbi_code(scaf[0])\n",
    "        print(o)\n",
    "        out_scaffolds[scaf[0]] = {\"Scaffold\":scaf[0], \"NCBI_Reference\":o}\n",
    "        sleep(0.4)"
   ]
  },
  {
   "cell_type": "code",
   "execution_count": 52,
   "metadata": {
    "collapsed": true,
    "jupyter": {
     "outputs_hidden": true
    }
   },
   "outputs": [
    {
     "data": {
      "text/plain": [
       "{'spur5_scaffold_16': {'Scaffold': 'spur5_scaffold_16',\n",
       "  'NCBI_Reference': 'NW_022145601.1'},\n",
       " 'spur5_scaffold_8': {'Scaffold': 'spur5_scaffold_8',\n",
       "  'NCBI_Reference': 'NW_022145614.1'},\n",
       " 'spur5_scaffold_7': {'Scaffold': 'spur5_scaffold_7',\n",
       "  'NCBI_Reference': 'NW_022145613.1'},\n",
       " 'spur5_contig_839': {'Scaffold': 'spur5_contig_839',\n",
       "  'NCBI_Reference': 'NW_022145545.1'},\n",
       " 'spur5_scaffold_17': {'Scaffold': 'spur5_scaffold_17',\n",
       "  'NCBI_Reference': 'NW_022145602.1'},\n",
       " 'spur5_contig_850': {'Scaffold': 'spur5_contig_850',\n",
       "  'NCBI_Reference': 'NW_022145558.1'},\n",
       " 'spur5_scaffold_3': {'Scaffold': 'spur5_scaffold_3',\n",
       "  'NCBI_Reference': 'NW_022145609.1'},\n",
       " 'spur5_scaffold_5': {'Scaffold': 'spur5_scaffold_5',\n",
       "  'NCBI_Reference': 'NW_022145611.1'},\n",
       " 'spur5_scaffold_20': {'Scaffold': 'spur5_scaffold_20',\n",
       "  'NCBI_Reference': 'NW_022145606.1'},\n",
       " 'spur5_scaffold_6': {'Scaffold': 'spur5_scaffold_6',\n",
       "  'NCBI_Reference': 'NW_022145612.1'},\n",
       " 'spur5_scaffold_12': {'Scaffold': 'spur5_scaffold_12',\n",
       "  'NCBI_Reference': 'NW_022145597.1'},\n",
       " 'spur5_scaffold_1': {'Scaffold': 'spur5_scaffold_1',\n",
       "  'NCBI_Reference': 'NW_022145594.1'},\n",
       " 'spur5_contig_781': {'Scaffold': 'spur5_contig_781',\n",
       "  'NCBI_Reference': 'NW_022145482.1'},\n",
       " 'spur5_contig_847': {'Scaffold': 'spur5_contig_847',\n",
       "  'NCBI_Reference': 'NW_022145554.1'},\n",
       " 'spur5_scaffold_15': {'Scaffold': 'spur5_scaffold_15',\n",
       "  'NCBI_Reference': 'NW_022145600.1'},\n",
       " 'spur5_scaffold_10': {'Scaffold': 'spur5_scaffold_10',\n",
       "  'NCBI_Reference': 'NW_022145595.1'},\n",
       " 'spur5_scaffold_9': {'Scaffold': 'spur5_scaffold_9',\n",
       "  'NCBI_Reference': 'NW_022145615.1'},\n",
       " 'spur5_scaffold_4': {'Scaffold': 'spur5_scaffold_4',\n",
       "  'NCBI_Reference': 'NW_022145610.1'},\n",
       " 'spur5_scaffold_14': {'Scaffold': 'spur5_scaffold_14',\n",
       "  'NCBI_Reference': 'NW_022145599.1'},\n",
       " 'spur5_scaffold_13': {'Scaffold': 'spur5_scaffold_13',\n",
       "  'NCBI_Reference': 'NW_022145598.1'},\n",
       " 'spur5_contig_869': {'Scaffold': 'spur5_contig_869',\n",
       "  'NCBI_Reference': 'NW_022145578.1'},\n",
       " 'spur5_scaffold_21': {'Scaffold': 'spur5_scaffold_21',\n",
       "  'NCBI_Reference': 'NW_022145607.1'},\n",
       " 'spur5_scaffold_18': {'Scaffold': 'spur5_scaffold_18',\n",
       "  'NCBI_Reference': 'NW_022145603.1'},\n",
       " 'spur5_scaffold_2': {'Scaffold': 'spur5_scaffold_2',\n",
       "  'NCBI_Reference': 'NW_022145605.1'},\n",
       " 'spur5_scaffold_19': {'Scaffold': 'spur5_scaffold_19',\n",
       "  'NCBI_Reference': 'NW_022145604.1'},\n",
       " 'spur5_scaffold_11': {'Scaffold': 'spur5_scaffold_11',\n",
       "  'NCBI_Reference': 'NW_022145596.1'},\n",
       " 'spur5_contig_840': {'Scaffold': 'spur5_contig_840',\n",
       "  'NCBI_Reference': 'NW_022145547.1'},\n",
       " 'spur5_contig_861': {'Scaffold': 'spur5_contig_861',\n",
       "  'NCBI_Reference': 'NW_022145570.1'},\n",
       " 'spur5_contig_833': {'Scaffold': 'spur5_contig_833',\n",
       "  'NCBI_Reference': 'NW_022145539.1'},\n",
       " 'spur5_contig_829': {'Scaffold': 'spur5_contig_829',\n",
       "  'NCBI_Reference': 'NW_022145534.1'},\n",
       " 'spur5_contig_852': {'Scaffold': 'spur5_contig_852',\n",
       "  'NCBI_Reference': 'NW_022145560.1'},\n",
       " 'spur5_contig_859': {'Scaffold': 'spur5_contig_859',\n",
       "  'NCBI_Reference': 'NW_022145567.1'},\n",
       " 'spur5_contig_849': {'Scaffold': 'spur5_contig_849',\n",
       "  'NCBI_Reference': 'NW_022145556.1'},\n",
       " 'spur5_contig_858': {'Scaffold': 'spur5_contig_858',\n",
       "  'NCBI_Reference': 'NW_022145566.1'},\n",
       " 'spur5_contig_841': {'Scaffold': 'spur5_contig_841',\n",
       "  'NCBI_Reference': 'NW_022145548.1'},\n",
       " 'spur5_contig_854': {'Scaffold': 'spur5_contig_854',\n",
       "  'NCBI_Reference': 'NW_022145562.1'},\n",
       " 'spur5_contig_838': {'Scaffold': 'spur5_contig_838',\n",
       "  'NCBI_Reference': 'NW_022145544.1'},\n",
       " 'spur5_contig_843': {'Scaffold': 'spur5_contig_843',\n",
       "  'NCBI_Reference': 'NW_022145550.1'},\n",
       " 'spur5_contig_865': {'Scaffold': 'spur5_contig_865',\n",
       "  'NCBI_Reference': 'NW_022145574.1'},\n",
       " 'spur5_contig_866': {'Scaffold': 'spur5_contig_866',\n",
       "  'NCBI_Reference': 'NW_022145575.1'},\n",
       " 'spur5_contig_855': {'Scaffold': 'spur5_contig_855',\n",
       "  'NCBI_Reference': 'NW_022145563.1'},\n",
       " 'spur5_contig_821': {'Scaffold': 'spur5_contig_821',\n",
       "  'NCBI_Reference': 'NW_022145526.1'},\n",
       " 'spur5_contig_867': {'Scaffold': 'spur5_contig_867',\n",
       "  'NCBI_Reference': 'NW_022145576.1'},\n",
       " 'spur5_contig_863': {'Scaffold': 'spur5_contig_863',\n",
       "  'NCBI_Reference': 'NW_022145572.1'},\n",
       " 'spur5_contig_815': {'Scaffold': 'spur5_contig_815',\n",
       "  'NCBI_Reference': 'NW_022145519.1'},\n",
       " 'spur5_contig_851': {'Scaffold': 'spur5_contig_851',\n",
       "  'NCBI_Reference': 'NW_022145559.1'},\n",
       " 'spur5_contig_811': {'Scaffold': 'spur5_contig_811',\n",
       "  'NCBI_Reference': 'NW_022145515.1'},\n",
       " 'spur5_contig_820': {'Scaffold': 'spur5_contig_820',\n",
       "  'NCBI_Reference': 'NW_022145525.1'},\n",
       " 'spur5_contig_837': {'Scaffold': 'spur5_contig_837',\n",
       "  'NCBI_Reference': 'NW_022145543.1'},\n",
       " 'spur5_contig_812': {'Scaffold': 'spur5_contig_812',\n",
       "  'NCBI_Reference': 'NW_022145516.1'},\n",
       " 'spur5_contig_810': {'Scaffold': 'spur5_contig_810',\n",
       "  'NCBI_Reference': 'NW_022145514.1'},\n",
       " 'spur5_contig_816': {'Scaffold': 'spur5_contig_816',\n",
       "  'NCBI_Reference': 'NW_022145520.1'},\n",
       " 'spur5_contig_836': {'Scaffold': 'spur5_contig_836',\n",
       "  'NCBI_Reference': 'NW_022145542.1'},\n",
       " 'spur5_contig_848': {'Scaffold': 'spur5_contig_848',\n",
       "  'NCBI_Reference': 'NW_022145555.1'},\n",
       " 'spur5_contig_853': {'Scaffold': 'spur5_contig_853',\n",
       "  'NCBI_Reference': 'NW_022145561.1'},\n",
       " 'spur5_contig_832': {'Scaffold': 'spur5_contig_832',\n",
       "  'NCBI_Reference': 'NW_022145538.1'},\n",
       " 'spur5_contig_842': {'Scaffold': 'spur5_contig_842',\n",
       "  'NCBI_Reference': 'NW_022145549.1'},\n",
       " 'spur5_contig_835': {'Scaffold': 'spur5_contig_835',\n",
       "  'NCBI_Reference': 'NW_022145541.1'},\n",
       " 'spur5_contig_862': {'Scaffold': 'spur5_contig_862',\n",
       "  'NCBI_Reference': 'NW_022145571.1'},\n",
       " 'spur5_contig_844': {'Scaffold': 'spur5_contig_844',\n",
       "  'NCBI_Reference': 'NW_022145551.1'},\n",
       " 'spur5_contig_30': {'Scaffold': 'spur5_contig_30',\n",
       "  'NCBI_Reference': 'NW_022144952.1'},\n",
       " 'spur5_contig_29': {'Scaffold': 'spur5_contig_29',\n",
       "  'NCBI_Reference': 'NW_022144941.1'},\n",
       " 'spur5_contig_37': {'Scaffold': 'spur5_contig_37',\n",
       "  'NCBI_Reference': 'NW_022145029.1'},\n",
       " 'spur5_contig_34': {'Scaffold': 'spur5_contig_34',\n",
       "  'NCBI_Reference': 'NW_022144996.1'},\n",
       " 'spur5_contig_831': {'Scaffold': 'spur5_contig_831',\n",
       "  'NCBI_Reference': 'NW_022145537.1'},\n",
       " 'spur5_contig_817': {'Scaffold': 'spur5_contig_817',\n",
       "  'NCBI_Reference': 'NW_022145521.1'},\n",
       " 'spur5_contig_746': {'Scaffold': 'spur5_contig_746',\n",
       "  'NCBI_Reference': 'NW_022145443.1'},\n",
       " 'spur5_contig_764': {'Scaffold': 'spur5_contig_764',\n",
       "  'NCBI_Reference': 'NW_022145463.1'},\n",
       " 'spur5_contig_845': {'Scaffold': 'spur5_contig_845',\n",
       "  'NCBI_Reference': 'NW_022145552.1'},\n",
       " 'spur5_contig_846': {'Scaffold': 'spur5_contig_846',\n",
       "  'NCBI_Reference': 'NW_022145553.1'},\n",
       " 'spur5_contig_825': {'Scaffold': 'spur5_contig_825',\n",
       "  'NCBI_Reference': 'NW_022145530.1'},\n",
       " 'spur5_contig_818': {'Scaffold': 'spur5_contig_818',\n",
       "  'NCBI_Reference': 'NW_022145522.1'},\n",
       " 'spur5_contig_870': {'Scaffold': 'spur5_contig_870',\n",
       "  'NCBI_Reference': 'NW_022145580.1'},\n",
       " 'spur5_contig_822': {'Scaffold': 'spur5_contig_822',\n",
       "  'NCBI_Reference': 'NW_022145527.1'},\n",
       " 'spur5_contig_686': {'Scaffold': 'spur5_contig_686',\n",
       "  'NCBI_Reference': 'NW_022145377.1'},\n",
       " 'spur5_contig_759': {'Scaffold': 'spur5_contig_759',\n",
       "  'NCBI_Reference': 'NW_022145457.1'},\n",
       " 'spur5_contig_868': {'Scaffold': 'spur5_contig_868',\n",
       "  'NCBI_Reference': 'NW_022145577.1'},\n",
       " 'spur5_contig_834': {'Scaffold': 'spur5_contig_834',\n",
       "  'NCBI_Reference': 'NW_022145540.1'},\n",
       " 'spur5_contig_860': {'Scaffold': 'spur5_contig_860',\n",
       "  'NCBI_Reference': 'NW_022145569.1'},\n",
       " 'spur5_contig_805': {'Scaffold': 'spur5_contig_805',\n",
       "  'NCBI_Reference': 'NW_022145508.1'},\n",
       " 'spur5_contig_763': {'Scaffold': 'spur5_contig_763',\n",
       "  'NCBI_Reference': 'NW_022145462.1'},\n",
       " 'spur5_contig_809': {'Scaffold': 'spur5_contig_809',\n",
       "  'NCBI_Reference': 'NW_022145512.1'},\n",
       " 'spur5_contig_864': {'Scaffold': 'spur5_contig_864',\n",
       "  'NCBI_Reference': 'NW_022145573.1'},\n",
       " 'spur5_contig_735': {'Scaffold': 'spur5_contig_735',\n",
       "  'NCBI_Reference': 'NW_022145431.1'},\n",
       " 'spur5_contig_827': {'Scaffold': 'spur5_contig_827',\n",
       "  'NCBI_Reference': 'NW_022145532.1'},\n",
       " 'spur5_contig_800': {'Scaffold': 'spur5_contig_800',\n",
       "  'NCBI_Reference': 'NW_022145503.1'},\n",
       " 'spur5_contig_857': {'Scaffold': 'spur5_contig_857',\n",
       "  'NCBI_Reference': 'NW_022145565.1'},\n",
       " 'spur5_contig_808': {'Scaffold': 'spur5_contig_808',\n",
       "  'NCBI_Reference': 'NW_022145511.1'},\n",
       " 'spur5_contig_724': {'Scaffold': 'spur5_contig_724',\n",
       "  'NCBI_Reference': 'NW_022145419.1'},\n",
       " 'spur5_contig_32': {'Scaffold': 'spur5_contig_32',\n",
       "  'NCBI_Reference': 'NW_022144974.1'},\n",
       " 'spur5_contig_568': {'Scaffold': 'spur5_contig_568',\n",
       "  'NCBI_Reference': 'NW_022145247.1'},\n",
       " 'spur5_contig_830': {'Scaffold': 'spur5_contig_830',\n",
       "  'NCBI_Reference': 'NW_022145536.1'},\n",
       " 'spur5_contig_823': {'Scaffold': 'spur5_contig_823',\n",
       "  'NCBI_Reference': 'NW_022145528.1'},\n",
       " 'spur5_contig_828': {'Scaffold': 'spur5_contig_828',\n",
       "  'NCBI_Reference': 'NW_022145533.1'},\n",
       " 'spur5_contig_826': {'Scaffold': 'spur5_contig_826',\n",
       "  'NCBI_Reference': 'NW_022145531.1'},\n",
       " 'spur5_contig_856': {'Scaffold': 'spur5_contig_856',\n",
       "  'NCBI_Reference': 'NW_022145564.1'},\n",
       " 'spur5_contig_36': {'Scaffold': 'spur5_contig_36',\n",
       "  'NCBI_Reference': 'NW_022145018.1'},\n",
       " 'spur5_contig_819': {'Scaffold': 'spur5_contig_819',\n",
       "  'NCBI_Reference': 'NW_022145523.1'},\n",
       " 'spur5_contig_871': {'Scaffold': 'spur5_contig_871',\n",
       "  'NCBI_Reference': 'NW_022145581.1'},\n",
       " 'spur5_contig_48': {'Scaffold': 'spur5_contig_48',\n",
       "  'NCBI_Reference': 'NW_022145150.1'},\n",
       " 'spur5_contig_824': {'Scaffold': 'spur5_contig_824',\n",
       "  'NCBI_Reference': 'NW_022145529.1'},\n",
       " 'spur5_contig_760': {'Scaffold': 'spur5_contig_760',\n",
       "  'NCBI_Reference': 'NW_022145459.1'},\n",
       " 'spur5_contig_538': {'Scaffold': 'spur5_contig_538',\n",
       "  'NCBI_Reference': 'NW_022145214.1'},\n",
       " 'spur5_contig_50': {'Scaffold': 'spur5_contig_50',\n",
       "  'NCBI_Reference': 'NW_022145172.1'},\n",
       " 'spur5_contig_49': {'Scaffold': 'spur5_contig_49',\n",
       "  'NCBI_Reference': 'NW_022145161.1'},\n",
       " 'spur5_contig_813': {'Scaffold': 'spur5_contig_813',\n",
       "  'NCBI_Reference': 'NW_022145517.1'},\n",
       " 'spur5_contig_814': {'Scaffold': 'spur5_contig_814',\n",
       "  'NCBI_Reference': 'NW_022145518.1'},\n",
       " 'spur5_contig_806': {'Scaffold': 'spur5_contig_806',\n",
       "  'NCBI_Reference': 'NW_022145509.1'},\n",
       " 'spur5_contig_796': {'Scaffold': 'spur5_contig_796',\n",
       "  'NCBI_Reference': 'NW_022145498.1'},\n",
       " 'spur5_contig_734': {'Scaffold': 'spur5_contig_734',\n",
       "  'NCBI_Reference': 'NW_022145430.1'}}"
      ]
     },
     "execution_count": 52,
     "metadata": {},
     "output_type": "execute_result"
    }
   ],
   "source": [
    "out_scaffolds"
   ]
  },
  {
   "cell_type": "code",
   "execution_count": 60,
   "metadata": {},
   "outputs": [],
   "source": [
    "final_out = []"
   ]
  },
  {
   "cell_type": "code",
   "execution_count": 61,
   "metadata": {},
   "outputs": [],
   "source": [
    "for sc in in_scaffolds:\n",
    "    #print(sc)\n",
    "    new = out_scaffolds[sc[0]]\n",
    "    #print(new[\"NCBI_Reference\"])\n",
    "    final_out.append(new[\"NCBI_Reference\"])"
   ]
  },
  {
   "cell_type": "code",
   "execution_count": 63,
   "metadata": {},
   "outputs": [
    {
     "data": {
      "text/plain": [
       "113426"
      ]
     },
     "execution_count": 63,
     "metadata": {},
     "output_type": "execute_result"
    }
   ],
   "source": [
    "len(final_out)"
   ]
  },
  {
   "cell_type": "code",
   "execution_count": 71,
   "metadata": {},
   "outputs": [],
   "source": [
    "with open(\"lvar_spur_translated50.csv\", 'w', newline='') as myfile:\n",
    "    wr = csv.writer(myfile, quoting=csv.QUOTE_ALL)\n",
    "    for val in final_out[52810:]:\n",
    "        wr.writerow([val])"
   ]
  },
  {
   "cell_type": "code",
   "execution_count": 40,
   "metadata": {},
   "outputs": [],
   "source": [
    "#csv_columns = ['Scaffold','NCBI_Reference']\n",
    "#df = pd.DataFrame([scaffold for scaffold in out_scaffolds.values()])\n",
    "#df"
   ]
  },
  {
   "cell_type": "code",
   "execution_count": 9,
   "metadata": {},
   "outputs": [],
   "source": [
    "#df.to_csv(\"lncRNA_translated50.csv\")"
   ]
  },
  {
   "cell_type": "code",
   "execution_count": 69,
   "metadata": {},
   "outputs": [
    {
     "data": {
      "text/plain": [
       "52810"
      ]
     },
     "execution_count": 69,
     "metadata": {},
     "output_type": "execute_result"
    }
   ],
   "source": [
    "36255+16555"
   ]
  },
  {
   "cell_type": "code",
   "execution_count": null,
   "metadata": {},
   "outputs": [],
   "source": []
  }
 ],
 "metadata": {
  "kernelspec": {
   "display_name": "Python 3",
   "language": "python",
   "name": "python3"
  },
  "language_info": {
   "codemirror_mode": {
    "name": "ipython",
    "version": 3
   },
   "file_extension": ".py",
   "mimetype": "text/x-python",
   "name": "python",
   "nbconvert_exporter": "python",
   "pygments_lexer": "ipython3",
   "version": "3.7.7"
  }
 },
 "nbformat": 4,
 "nbformat_minor": 4
}
